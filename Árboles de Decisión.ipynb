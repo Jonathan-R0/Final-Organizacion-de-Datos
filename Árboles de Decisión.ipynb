{
 "cells": [
  {
   "cell_type": "markdown",
   "id": "92f33b23",
   "metadata": {},
   "source": [
    "# Árboles de Decisión"
   ]
  },
  {
   "cell_type": "markdown",
   "id": "601c872b",
   "metadata": {},
   "source": [
    "Para esta guía veo que hay muchos ejercicios que se repiten, por ejemplo, armar árboles con ID3. No se realizarán todos pero se mostrará el algorítmo."
   ]
  },
  {
   "cell_type": "markdown",
   "id": "411b7c17",
   "metadata": {},
   "source": [
    "***2. Se quiere construir un árbol de decisión para clasificar si un conjunto de platos es adecuado para carnívoros (clase C) o veganos (clase V). El algoritmo CART debe analizar si hacer o no un split por la columna “ingrediente 2 en gramos” (columna numérica). Dados los valores de la columna y la clase a predecir, indicar cuál sería el valor de la ganancia de información para dicha columna:***"
   ]
  },
  {
   "cell_type": "markdown",
   "id": "ea8d0d6c",
   "metadata": {},
   "source": [
    "| Feature | Target |\n",
    "|---------|--------|\n",
    "| 23      | V      |\n",
    "| 80      | C      |\n",
    "| 85      | C      |\n",
    "| 65      | V      |\n",
    "| 100     | V      |\n",
    "| 11      | C      |\n"
   ]
  },
  {
   "cell_type": "markdown",
   "id": "859fe1f5",
   "metadata": {},
   "source": [
    "Primero debemos ordenar los features de menor a mayor:"
   ]
  },
  {
   "cell_type": "markdown",
   "id": "9baf2472",
   "metadata": {},
   "source": [
    "| Feature | Target |\n",
    "|---------|--------|\n",
    "| 11      | C      |\n",
    "| 23      | V      |\n",
    "| 65      | V      |\n",
    "| 80      | C      |\n",
    "| 85      | C      |\n",
    "| 100     | V      |"
   ]
  },
  {
   "cell_type": "markdown",
   "id": "9619ebd3",
   "metadata": {},
   "source": [
    "Y podemos splittear de las diferentes formas:\n",
    "```\n",
    "C|VVCCV\n",
    "CV|VCCV\n",
    "CVV|CCV\n",
    "CVVC|CV\n",
    "CVVCC|V\n",
    "```\n",
    "Y para cada posible split calculamos su entropía."
   ]
  },
  {
   "cell_type": "markdown",
   "id": "88b4914a",
   "metadata": {},
   "source": [
    "La entropía de cada split es: \n",
    "```\n",
    "C|VVCCV ->   H(i <= 11)/6 + 5*H(i > 11)/6 =   H(1/1, 0/1)/6 + 5*H(2/5, 3/5)/6 = 0.81 \n",
    "CV|VCCV -> 2*H(i <= 23)/6 + 4*H(i > 23)/6 = 2*H(1/2, 1/2)/6 + 4*H(2/4, 2/4)/6 = 1\n",
    "CVV|CCV -> 3*H(i <= 65)/6 + 3*H(i > 65)/6 = 3*H(1/3, 2/3)/6 + 3*H(2/3, 1/3)/6 = 0.92 \n",
    "CVVC|CV -> 4*H(i <= 80)/6 + 2*H(i > 80)/6 = 4*H(2/4, 2/4)/6 + 2*H(1/2, 1/2)/6 = 1 \n",
    "CVVCC|V -> 5*H(i <= 85)/6 +   H(i > 85)/6 = 5*H(3/5, 2/5)/6 +   H(0/1, 1/1)/6 = 0.81\n",
    "```\n",
    "\n",
    "\n",
    "\n",
    "\n",
    "\n"
   ]
  },
  {
   "cell_type": "markdown",
   "id": "7290fbc0",
   "metadata": {},
   "source": [
    "Donde tenemos que tomar los splits que minimicen la entropía. Por lo tanto podemos cortar por el primer o último valor del dataframe, es decir, los que tienen entropía ~0.81."
   ]
  },
  {
   "cell_type": "markdown",
   "id": "1b739975",
   "metadata": {},
   "source": [
    "***3. Dada la información sobre los siguientes días:***\n",
    "$ $\n",
    "$ $\n",
    "\n",
    "| Día | Clima   | Temperatura | Humedad | Viento | ¿Jugar al tenis?  |\n",
    "|-----|---------|-------------|---------|--------|-------------------|\n",
    "| D1  | Soleado | Caluroso    | Alta    | Débil  | No                |\n",
    "| D2  | Soleado | Caluroso    | Alta    | Fuerte | No                |\n",
    "| D3  | Nublado | Caluroso    | Alta    | Débil  | Sí                |\n",
    "| D4  | Lluvia  | Templado    | Alta    | Débil  | Sí                |\n",
    "| D5  | Lluvia  | Frío        | Normal  | Débil  | Sí                |\n",
    "| D6  | Lluvia  | Frío        | Normal  | Fuerte | No                |\n",
    "| D7  | Nublado | Frío        | Normal  | Fuerte | Sí                |\n",
    "| D8  | Soleado | Templado    | Alta    | Débil  | No                |\n",
    "| D9  | Soleado | Frío        | Normal  | Débil  | Sí                |\n",
    "| D10 | Lluvia  | Templado    | Normal  | Débil  | Sí                |\n",
    "| D11 | Soleado | Templado    | Normal  | Fuerte | Sí                |\n",
    "| D12 | Nublado | Templado    | Alta    | Fuerte | Sí                |\n",
    "| D13 | Nublado | Caluroso    | Normal  | Débil  | Sí                |\n",
    "| D14 | Lluvia  | Templado    | Alta    | Fuerte | No                |\n",
    "\n",
    "***utilizar ID3 para determinar si las condiciones serán o no apropiadas para jugar al tenis.***\n"
   ]
  },
  {
   "cell_type": "markdown",
   "id": "0906c886",
   "metadata": {},
   "source": [
    "Como siempre arrancamos calculando la entropía del set de datos:\n",
    "\n",
    "```\n",
    "H(SET) = H(5/14,1 - 5/14) = 0.9402859586706311\n",
    "```"
   ]
  },
  {
   "cell_type": "code",
   "execution_count": 11,
   "id": "68567f01",
   "metadata": {},
   "outputs": [
    {
     "data": {
      "text/plain": [
       "0.9402859586706311"
      ]
     },
     "execution_count": 11,
     "metadata": {},
     "output_type": "execute_result"
    }
   ],
   "source": [
    "from math import log2\n",
    "entropy = lambda probas: -sum([p * log2(p) for p in probas])\n",
    "entropy([5/14, 1 - 5/14])"
   ]
  },
  {
   "cell_type": "markdown",
   "id": "a5e79855",
   "metadata": {},
   "source": [
    "Y ahora debemos calcular la entropía de cada feature para saber donde maximizamos la ganancia de información."
   ]
  },
  {
   "cell_type": "markdown",
   "id": "94b9e91d",
   "metadata": {},
   "source": [
    "```\n",
    "H(viento)      = 8*H(6/8, 2/8)/14 + 6*H(1/2, 1/2)/14 = 0.8921\n",
    "H(humedad)     = 7*H(3/7, 4/7)/14 + 7*H(6/7, 1/7)/14 = 0.7884\n",
    "H(temperatura) = 4*H(2/4, 2/4)/14 + 6*H(4/6, 4/6)/14 + 4*H(3/4, 1/4)/14 = 0.8517\n",
    "H(clima)       = 5*H(2/5, 3/5)/14 + 5*H(3/5, 2/5)/14 + 4*H(1, 0)/14     = 0.6935\n",
    "```\n",
    "\n",
    "Donde, por ejemplo, tenemos `8*H(Débil)/14 + 6*H(Fuerte)/14` para la entropía del viento."
   ]
  },
  {
   "cell_type": "markdown",
   "id": "227ffb39",
   "metadata": {},
   "source": [
    "Por lo tanto primero debemos tomar al clima y dentro del clima, como el estado nublado tiene la menor entropía, elegimos esta para que apunte directamente a `sí`. Ahora debemos ver que pasa cuando clima está soleado y con lluvia. "
   ]
  },
  {
   "cell_type": "markdown",
   "id": "e86c7e63",
   "metadata": {},
   "source": [
    "### Lluvia"
   ]
  },
  {
   "cell_type": "markdown",
   "id": "75460d47",
   "metadata": {},
   "source": [
    "| Día | Clima   | Temperatura | Humedad | Viento | ¿Jugar al tenis?  |\n",
    "|-----|---------|-------------|---------|--------|-------------------|\n",
    "| D4  | Lluvia  | Templado    | Alta    | Débil  | Sí                |\n",
    "| D5  | Lluvia  | Frío        | Normal  | Débil  | Sí                |\n",
    "| D6  | Lluvia  | Frío        | Normal  | Fuerte | No                |\n",
    "| D10 | Lluvia  | Templado    | Normal  | Débil  | Sí                |\n",
    "| D14 | Lluvia  | Templado    | Alta    | Fuerte | No                |\n",
    "\n",
    "Ahora debemos calcular las entropías dado que va a llover.\n",
    "\n",
    "```\n",
    "H(temperatura | llueve) = 3*H(2/3, 1/3)/5 + 2*H(1/2, 1/2)/5 = 0.9509\n",
    "H(  humedad   | llueve) = 2*H(1/2, 1/2)/5 + 3*H(2/3, 1/3)/5 = 0.9509\n",
    "H(   viento   | llueve) = 3*H(3/3, 0/3)/5 + 2*H(0/2, 2/2)/5 = 0\n",
    "```\n",
    "\n",
    "Y resulta que ahora debemos elegir, en el próximo nodo del árbol, en función del tipo de viento."
   ]
  },
  {
   "cell_type": "markdown",
   "id": "d25b122d",
   "metadata": {},
   "source": [
    "### Soleado"
   ]
  },
  {
   "cell_type": "markdown",
   "id": "927557d8",
   "metadata": {},
   "source": [
    "| Día | Clima   | Temperatura | Humedad | Viento | ¿Jugar al tenis?  |\n",
    "|-----|---------|-------------|---------|--------|-------------------|\n",
    "| D1  | Soleado | Caluroso    | Alta    | Débil  | No                |\n",
    "| D2  | Soleado | Caluroso    | Alta    | Fuerte | No                |\n",
    "| D8  | Soleado | Templado    | Alta    | Débil  | No                |\n",
    "| D9  | Soleado | Frío        | Normal  | Débil  | Sí                |\n",
    "| D11 | Soleado | Templado    | Normal  | Fuerte | Sí                |\n",
    "\n",
    "Ahora debemos calcular las entropías dado que va a estar soleado.\n",
    "\n",
    "```\n",
    "H(temperatura | soleado) = 2*H(0/3, 3/3)/5 + 2*H(1/2, 1/2)/5 + H(1,0) = 0.4\n",
    "H(  humedad   | soleado) = 2*H(2/2, 0/2)/5 + 3*H(0/3, 3/3)/5          = 0\n",
    "H(   viento   | soleado) = 3*H(2/3, 1/3)/5 + 2*H(0/2, 2/2)/5          = 0.5509\n",
    "```\n",
    "\n",
    "Por lo que en este split decido en función de la humedad."
   ]
  },
  {
   "cell_type": "markdown",
   "id": "55d679f7",
   "metadata": {},
   "source": [
    "```\n",
    "Clima Nublado -> Sí\n",
    "Clima Soleado -> Humedad Alta   -> No\n",
    "                 Humedad Normal -> Sí\n",
    "Clima Lluvia  -> Viento Débil   -> Sí\n",
    "                 Viento Fuerte  -> No\n",
    "```"
   ]
  },
  {
   "cell_type": "markdown",
   "id": "281b7ec7",
   "metadata": {},
   "source": [
    "***5b. Explicar cómo hacer para evitar el overfitting y aplicarlo al árbol del punto anterior.***"
   ]
  },
  {
   "cell_type": "markdown",
   "id": "8b4c4d73",
   "metadata": {},
   "source": [
    "Podemos usar min-bucket. Esta técnica tiene un hiperparámetro $k \\in \\mathbb{N}$, el cual corresponde a la cantidad mínima de registros que tiene que tener un feature para aparecer como nodo. Por ejemplo en el dataframe anterior, si tuvieramos que k = 6 entonces el clima soleado haría que se cancelen los partidos."
   ]
  },
  {
   "cell_type": "markdown",
   "id": "637e6b9d",
   "metadata": {},
   "source": [
    "***7. Dados los siguientes puntos en una dimensión y sus labels para un problema de regresión (con el formato (coordenada_X, label)):***\n",
    "\n",
    "```\n",
    "(1, 6), (17, 11), (18, 14), (26, 23), (303, 108), (411, 109), (511, 211)\n",
    "```\n",
    "\n",
    "***Se quiere usar Gradient Boosting para aproximar los valores de forma tal de minimizar el error cuadrático medio (MSE por sus siglas en inglés).***\n",
    "\n",
    "***a. Construir un árbol de decisión de nivel 1 y dibujarlo.***\n",
    "\n",
    "***b. Construir un segundo árbol basado en Gradient Boosting para indicar la predicción final que se realizaría para cada punto y el error de entrenamiento en base a estas predicciones. Indicar si se cae en un caso de overfitting o underfitting.***"
   ]
  },
  {
   "cell_type": "markdown",
   "id": "4617e5a6",
   "metadata": {},
   "source": []
  }
 ],
 "metadata": {
  "kernelspec": {
   "display_name": "Python 3",
   "language": "python",
   "name": "python3"
  },
  "language_info": {
   "codemirror_mode": {
    "name": "ipython",
    "version": 3
   },
   "file_extension": ".py",
   "mimetype": "text/x-python",
   "name": "python",
   "nbconvert_exporter": "python",
   "pygments_lexer": "ipython3",
   "version": "3.9.0"
  }
 },
 "nbformat": 4,
 "nbformat_minor": 5
}
