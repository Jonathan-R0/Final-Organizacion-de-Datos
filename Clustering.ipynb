{
 "cells": [
  {
   "cell_type": "markdown",
   "id": "d59d6d9a",
   "metadata": {},
   "source": [
    "# Clustering"
   ]
  },
  {
   "cell_type": "code",
   "execution_count": 1,
   "id": "6ffdc308",
   "metadata": {},
   "outputs": [],
   "source": [
    "import numpy as np"
   ]
  },
  {
   "cell_type": "markdown",
   "id": "5b5c5657",
   "metadata": {},
   "source": [
    "***2. Un sistema recibe un flujo de datos numéricos que se necesitan asignar a un cluster utilizando K-Means online, con k = 3. Considerando que la inicialización se hace con los primeros 6 datos del stream, y luego a continuación vienen 4 datos más, realizar el seguimiento indicando cómo se comporta el algoritmo para generar los clusters, y cuál es el resultado final luego de procesar los primeros 10 elementos: 2, 6, 7, 18, 1, 9, 0, 3, 4 y 23.***"
   ]
  },
  {
   "cell_type": "markdown",
   "id": "976af90c",
   "metadata": {},
   "source": [
    "Primero tenes 6 datos iniciales: $2, 6, 7, 18, 1, 9$ y ahora debemos calcular los clusters de cada uno:\n",
    "\n",
    "```\n",
    "_,1,2,_,_,_,6,7,_,9,_,_,_,_,_,_,_,_,18\n",
    "```\n",
    "\n",
    "Vemos a ojo que, usando la distancia Euclídea los clusters iniciales son: $\\{1,2\\}, \\{6,7,9\\}, \\{18\\}$ y sus centroides correspondientes son: $1.5, 7.33, 18$."
   ]
  },
  {
   "cell_type": "markdown",
   "id": "ea9e8442",
   "metadata": {},
   "source": [
    "Ahora debemos ejecutar el resto de K-Means online viendo como van entrando los puntos y recalculando los centroides de forma dinámica. La fórmula es:\n",
    "\n",
    "$C_j = C_j + \\frac{X_i - C_j}{N_j}$\n",
    "\n",
    "Siendo $X_i$ el elemento que entra y $N_j$ el tamaño del cluster (incluyendo el ítem nuevo)."
   ]
  },
  {
   "cell_type": "markdown",
   "id": "30b117ad",
   "metadata": {},
   "source": [
    "Ingresa el 0 y pertenece al primer cluster pues es el que minimiza la distancia para todos los clusters disponible. Por lo tanto el primer centroide pasa a ser:\n",
    "\n",
    "```\n",
    "C_1 := 1.5 + (0 - 1.5)/3 = 1\n",
    "```\n",
    "\n",
    "Ingresa el 3 y, otra vez, ingresa al primer cluster:\n",
    "\n",
    "```\n",
    "C_1 := 1 + (3 - 1)/4 = 1.5\n",
    "```\n",
    "\n",
    "Ingresa el 4 y también pertenece al primer cluster:\n",
    "\n",
    "```\n",
    "C_1 := 1.5 + (4 - 1.5)/5 = 2\n",
    "```\n",
    "\n",
    "Y finalmente entra el 23 el cual tiene que, si o si, pertenecer al último cluster:\n",
    "\n",
    "```\n",
    "C_3 := 18 + (23 - 18)/2 = 20.5\n",
    "```\n",
    "\n",
    "Por lo tanto al final los clusters son: $\\{0,1,2,3,4\\}, \\{6,7,9\\}, \\{18,23\\}$."
   ]
  },
  {
   "cell_type": "markdown",
   "id": "fb3feedc",
   "metadata": {},
   "source": [
    "***3. Se tiene la siguiente tabla en donde cada fila es un usuario y cada columna es una categoría de películas. la tabla indica con una escala de 0 a 1 si al usuario le gusta o no la categoría.***"
   ]
  },
  {
   "cell_type": "markdown",
   "id": "5d2e1858",
   "metadata": {},
   "source": [
    "| Usuario | Western | Comedia | Acción | Ciencia Ficción |\n",
    "|---------|---------|---------|--------|-----------------|\n",
    "| Alice   | 0,2     | 0,6     | 0,5    | 0,1             |\n",
    "| Bob     | 0,7     | 0,4     | 0,7    | 0,4             |\n",
    "| Charly  | 0,1     | 0,6     | 0,7    | 0,9             |\n",
    "| Diane   | 0,5     | 0,1     | 0,9    | 0,8             |\n",
    "| Ethan   | 0,2     | 0,4     | 0,5    | 0,6             |"
   ]
  },
  {
   "cell_type": "markdown",
   "id": "0e95554a",
   "metadata": {},
   "source": [
    "***Se quieren encontrar dos clusters. Explicar de qué forma se aplicaría clustering espectral a partir de los datos proporcionados.***\n"
   ]
  },
  {
   "cell_type": "markdown",
   "id": "a45e5511",
   "metadata": {},
   "source": [
    "Sea $X \\in \\mathbb{R}^{4x5}$ la matriz de 4 datos en 5 dimensiones. Para transformarla en un\n",
    "grafo vamos a usar el mismo proceso que se ha utilizado en Laplacian Eigenmaps.\n",
    "\n",
    "Primero construimos la matriz de afinidad, esta siempre es simétrica y positiva.. Luego, construimos la matriz Laplaciana, la matriz Laplaciana tiene varias construcciones posibles pero la mas comun es: $L = D - W$\n",
    "Siendo $D$ la matriz diagonal con el grado de cada vertice del grafo, donde por grado se entiende la suma de cada columna de $W_{ij}$.\n",
    "\n",
    "El siguiente paso es descomponer la matriz Laplaciana en sus autovalores y autovectores y determinar la cantidad de autovectores a usar.\n",
    "\n"
   ]
  },
  {
   "cell_type": "markdown",
   "id": "40471cf5",
   "metadata": {},
   "source": [
    "***4. Se tienen los centroides [0 0] y [100 40]. Dados los siguientes puntos, indicar para cuál de ellos cambiaría el centroide al cual queda asignado según si se usa distancia Manhattan o Euclídea:\n",
    "[53 15] [51 15] [50 18] [52 13]***"
   ]
  },
  {
   "cell_type": "code",
   "execution_count": 2,
   "id": "f9ba594b",
   "metadata": {},
   "outputs": [],
   "source": [
    "centroides = [(0,0),(100,40)]\n",
    "puntos = [(53,15), (51,15), (50,18), (52,13)]"
   ]
  },
  {
   "cell_type": "code",
   "execution_count": 3,
   "id": "2277e4a1",
   "metadata": {},
   "outputs": [],
   "source": [
    "euclidea  = lambda x,y: np.sqrt((x[0] - y[0])**2 + (x[1] - y[1])**2)\n",
    "manhattan = lambda x,y: abs(x[0] - y[0]) + abs(x[1] - y[1])"
   ]
  },
  {
   "cell_type": "code",
   "execution_count": 4,
   "id": "55495c4c",
   "metadata": {},
   "outputs": [
    {
     "name": "stdout",
     "output_type": "stream",
     "text": [
      "El punto (53, 15) va al cluster con centroide en el punto 100,40\n",
      "El punto (51, 15) va al cluster con centroide en el origen\n",
      "El punto (50, 18) va al cluster con centroide en el origen\n",
      "El punto (52, 13) va al cluster con centroide en el origen\n"
     ]
    },
    {
     "name": "stderr",
     "output_type": "stream",
     "text": [
      "<ipython-input-4-9e2fdf3d2741>:5: DeprecationWarning: In future, it will be an error for 'np.bool_' scalars to be interpreted as an index\n",
      "  destino = (al_origen) * \"el origen\" + (not al_origen) * \"el punto 100,40\"\n"
     ]
    }
   ],
   "source": [
    "for p in puntos:\n",
    "    d_origen = euclidea(centroides[0], p)\n",
    "    d_cien = euclidea(centroides[1], p)\n",
    "    al_origen = d_origen < d_cien\n",
    "    destino = (al_origen) * \"el origen\" + (not al_origen) * \"el punto 100,40\"\n",
    "    print(f\"El punto {tuple(p)} va al cluster con centroide en {destino}\")"
   ]
  },
  {
   "cell_type": "code",
   "execution_count": 5,
   "id": "75e08b32",
   "metadata": {},
   "outputs": [
    {
     "name": "stdout",
     "output_type": "stream",
     "text": [
      "El punto (53, 15) va al cluster con centroide en el origen\n",
      "El punto (51, 15) va al cluster con centroide en el origen\n",
      "El punto (50, 18) va al cluster con centroide en el origen\n",
      "El punto (52, 13) va al cluster con centroide en el origen\n"
     ]
    }
   ],
   "source": [
    "for p in puntos:\n",
    "    d_origen = manhattan(centroides[0], p)\n",
    "    d_cien = manhattan(centroides[1], p)\n",
    "    al_origen = d_origen < d_cien\n",
    "    destino = (al_origen) * \"el origen\" + (not al_origen) * \"el punto 100,40\"\n",
    "    print(f\"El punto {tuple(p)} va al cluster con centroide en {destino}\")"
   ]
  },
  {
   "cell_type": "markdown",
   "id": "de1c9ce9",
   "metadata": {},
   "source": [
    "***5. Dados los siguientes puntos en dos dimensiones: [5 1] [5 3] [4 4] [9 4] [10 3] [11 6] aplicar K-Means comenzando con los centroides [8 1] y [7 5].***"
   ]
  },
  {
   "cell_type": "code",
   "execution_count": 21,
   "id": "19a36a99",
   "metadata": {},
   "outputs": [],
   "source": [
    "def kmeans2D(iteraciones, puntos, centroides):\n",
    "    clusters = [[[],p] for p in centroides]\n",
    "    for i in range(iteraciones):\n",
    "        for p in puntos:\n",
    "            if euclidea(p, clusters[0][1]) < euclidea(p, clusters[1][1]):\n",
    "                clusters[0][0].append(p)\n",
    "            else:\n",
    "                clusters[1][0].append(p)\n",
    "        if i == iteraciones - 1:\n",
    "            return clusters\n",
    "        primer_cluster = clusters[0][0]\n",
    "        segundo_cluster = clusters[1][0]\n",
    "        clusters[0][0] = []\n",
    "        clusters[1][0] = []\n",
    "        clusters[0][1] = (sum([x[0] for x in primer_cluster])/len(primer_cluster),\n",
    "                          sum([x[1] for x in primer_cluster])/len(primer_cluster))\n",
    "        clusters[1][1] = (sum([x[0] for x in segundo_cluster])/len(segundo_cluster),\n",
    "                          sum([x[1] for x in segundo_cluster])/len(segundo_cluster))    "
   ]
  },
  {
   "cell_type": "code",
   "execution_count": 22,
   "id": "6ecf7d64",
   "metadata": {},
   "outputs": [
    {
     "data": {
      "text/plain": [
       "[[[[5, 1], [10, 3]], (7.5, 2.0)],\n",
       " [[[5, 3], [4, 4], [9, 4], [11, 6]], (7.25, 4.25)]]"
      ]
     },
     "execution_count": 22,
     "metadata": {},
     "output_type": "execute_result"
    }
   ],
   "source": [
    "kmeans2D(5, [[5, 1], [5, 3], [4, 4], [9, 4], [10, 3], [11, 6]], ([8,1],[7,5]))"
   ]
  },
  {
   "cell_type": "markdown",
   "id": "53b15cc0",
   "metadata": {},
   "source": [
    "Asumo que, como esto está pensado para hacerlo en papel, que va a converger rapidamente."
   ]
  },
  {
   "cell_type": "markdown",
   "id": "d77d0b4d",
   "metadata": {},
   "source": [
    "***6. Dados los siguientes puntos en dos dimensiones: [1 1] [2 1] [4 3] [5 4] aplicar K-Means tomando como centroides [1 1] y [2 1], realizando un desarrollo descriptivo paso a paso del algoritmo, incluyendo representación gráfica e indicando:***\n",
    "\n",
    "***a. posición aproximada final de los centroides al converger;***\n",
    "\n",
    "***b. clusters finales obtenidos.***\n"
   ]
  },
  {
   "cell_type": "code",
   "execution_count": 27,
   "id": "352e79a0",
   "metadata": {},
   "outputs": [
    {
     "data": {
      "text/plain": [
       "[[[[1, 1], [2, 1]], (1.5, 1.0)], [[[4, 3], [5, 4]], (4.5, 3.5)]]"
      ]
     },
     "execution_count": 27,
     "metadata": {},
     "output_type": "execute_result"
    }
   ],
   "source": [
    "kmeans2D(100, [[1,1], [2,1], [4,3], [5,4]], ([1,1], [2,1]))"
   ]
  },
  {
   "cell_type": "markdown",
   "id": "e9001a86",
   "metadata": {},
   "source": [
    "Los centroides serán $(1.5,1)$ y $(4.5,3.5)$ y sus respectivos puntos asociados a sus clusters son: $(1, 1), (2, 1)$ y $(4, 3), (5, 4)$. Que dios se lo desarrolle el paso a paso; la lógica está en el código jaja."
   ]
  },
  {
   "cell_type": "markdown",
   "id": "904b4f75",
   "metadata": {},
   "source": [
    "***4. Se tienen los centroides [0 0] y [100 40]. Dados los siguientes puntos, indicar para cuál de ellos cambiaría el centroide al cual queda asignado según si se usa distancia Manhattan o Euclídea:\n",
    "[53 15] [51 15] [50 18] [52 13]***"
   ]
  },
  {
   "cell_type": "markdown",
   "id": "9bf563d4",
   "metadata": {},
   "source": [
    "***8. Considerar los siguientes puntos en una dimensión y la clase a la que pertenece cada punto (en formato “(número clase)” ): (5 b) (10 b) (2 b) (6 a) (7 b) (8 b) (0 a) (13 b) (16 b) (1 a) (3 a) (17 b). Se quiere usar KNN para clasificar los puntos con la distancia Manhattan. Con el objetivo de encontrar el valor óptimo de K (cantidad de vecinos), se utiliza Cross-Validation con folds de 4 registros. Considerar los folds en el orden en que fueron presentados los puntos ( Ejemplo: primer fold tiene a (5 b) (10 b) (2 b) (6 a) ).Determinar el valor óptimo de K realizando Grid-Search para tres valores posibles: 1, 3 y 5. Usar como\n",
    "métrica la precisión (accuracy).***"
   ]
  },
  {
   "cell_type": "markdown",
   "id": "2c932010",
   "metadata": {},
   "source": [
    "Debo tomar el primer fold y calcular todas las distancias al punto 5. Luego quedarme con los $k = 1$ ítems más cercanos y asignar a mi elemento al conjunto más seleccionado de entre mis k puntos. Si selecciono bien sumo un puntito para mi valor de $k$ que estoy usando.\n",
    "\n",
    "Luego para el segundo fold (del cuarto a octavo elemento) hacemos lo mismo, para cada punto nos quedamos con los $k = 3$ más cercanos y categorizamos a nuestro elemento con los 3 más categorizados. Si lo hace bien le damos puntaje a nuestro valor actual de $k$.\n",
    "\n",
    "Así para los 3 folds y nos quedamos con el $k$ que más puntos haya conseguido."
   ]
  },
  {
   "cell_type": "markdown",
   "id": "4437f4de",
   "metadata": {},
   "source": [
    "***10. Dados los siguientes puntos:***\n",
    "```\n",
    "[1 2] [1 3] [1 5] [2 3] [2 8] [3 3] [4 1] [4 9] [7 8] [9 9] [12 2] [13 4]\n",
    "```\n",
    "***agruparlos utilizando Clustering Jerárquico, indicando la cantidad de clusters resultantes, y el criterio utilizado para definir dicho número. Representar el dendrograma mostrando cómo se agrupan los distintos elementos en los clusters obtenidos.***"
   ]
  },
  {
   "cell_type": "code",
   "execution_count": null,
   "id": "c86ae338",
   "metadata": {},
   "outputs": [],
   "source": [
    "def jerarquico(puntos):\n",
    "    clusters = [[p] for p in puntos]\n",
    "    while len(clusters) != 1:\n",
    "        minimal = float('inf')\n",
    "        for cluster in clusters:\n",
    "            minimal = mini\n",
    "    ..."
   ]
  },
  {
   "cell_type": "code",
   "execution_count": null,
   "id": "910a9360",
   "metadata": {},
   "outputs": [],
   "source": [
    "jerarquico([[1, 2], [1, 3], [1, 5], [2, 3], [2, 8], [3, 3],\n",
    "            [4, 1], [4, 9], [7, 8], [9, 9], [12, 2], [13, 4]])"
   ]
  }
 ],
 "metadata": {
  "kernelspec": {
   "display_name": "Python 3",
   "language": "python",
   "name": "python3"
  },
  "language_info": {
   "codemirror_mode": {
    "name": "ipython",
    "version": 3
   },
   "file_extension": ".py",
   "mimetype": "text/x-python",
   "name": "python",
   "nbconvert_exporter": "python",
   "pygments_lexer": "ipython3",
   "version": "3.9.0"
  }
 },
 "nbformat": 4,
 "nbformat_minor": 5
}
