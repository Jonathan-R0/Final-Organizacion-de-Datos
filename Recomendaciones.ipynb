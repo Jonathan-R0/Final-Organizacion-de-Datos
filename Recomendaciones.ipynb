{
 "cells": [
  {
   "cell_type": "markdown",
   "id": "ef357203",
   "metadata": {},
   "source": [
    "# Recomendaciones"
   ]
  },
  {
   "cell_type": "markdown",
   "id": "04bad470",
   "metadata": {},
   "source": [
    "***1. Se tiene la siguiente matriz que relaciona a usuarios (A, B, C y D) y productos comprados (P1, P2, etc.)***"
   ]
  },
  {
   "cell_type": "markdown",
   "id": "cab8146f",
   "metadata": {},
   "source": [
    "|    | P1 | P2 | P3 | P4 | P5 | P6 | P7 | P8 |\n",
    "|----|----|----|----|----|----|----|----|----|\n",
    "| A  |    | 1  |    |    | 1  | 1  |    |    |\n",
    "| B  |    |    | 1  |    |    | 1  | 1  | 1  |\n",
    "| C  | 1  |    |    |    | 1  | 1  |    |    |\n",
    "| D  |    | 1  |    | 1  |    |    | 1  |    |"
   ]
  },
  {
   "cell_type": "markdown",
   "id": "152bcfaf",
   "metadata": {},
   "source": [
    "***Usando la semejanza de Jaccard y Collaborative Filtering user-user con k = 2, indicar cuáles serían los 3 productos que le recomendaría al usuario A y en qué orden. En caso de que haya empates, usar\n",
    "Collaborative Filtering item-item para desempatar.***"
   ]
  },
  {
   "cell_type": "markdown",
   "id": "89709b94",
   "metadata": {},
   "source": [
    "Como la matriz indica la cantidad de productos comprados porr usuario, tiene sentido usar la semejanza de Jaccard. Por lo tanto, como tenemos que usar CF User-User, vamos a ver cuales son los k=2 usuarios más semejantes al usuario A."
   ]
  },
  {
   "cell_type": "code",
   "execution_count": 6,
   "id": "c40cfef7",
   "metadata": {},
   "outputs": [],
   "source": [
    "jaccard = lambda x,y: len(x & y)/len(x | y)"
   ]
  },
  {
   "cell_type": "code",
   "execution_count": 23,
   "id": "73440594",
   "metadata": {},
   "outputs": [
    {
     "name": "stdout",
     "output_type": "stream",
     "text": [
      "Sim(A,A) = 1.0\n",
      "Sim(A,B) = 0.16666666666666666\n",
      "Sim(A,C) = 0.5\n",
      "Sim(A,D) = 0.2\n"
     ]
    }
   ],
   "source": [
    "A = {'p2', 'p5', 'p6'}\n",
    "B = {'p3', 'p6', 'p7', 'p8'}\n",
    "C = {'p1', 'p5', 'p6'}\n",
    "D = {'p2', 'p4', 'p7'}\n",
    "\n",
    "for userdata in [(A,'A'),(B,'B'),(C,'C'),(D,'D')]:\n",
    "    user = userdata[0]\n",
    "    username = userdata[1]\n",
    "    print(f\"Sim(A,{username}) = {jaccard(A,user)}\")"
   ]
  },
  {
   "cell_type": "markdown",
   "id": "43443bcf",
   "metadata": {},
   "source": [
    "|    | P1 | P2 | P3 | P4 | P5 | P6 | P7 | P8 |\n",
    "|----|----|----|----|----|----|----|----|----|\n",
    "| A  |    | 1  |    |    | 1  | 1  |    |    |\n",
    "| B  |    |    | 1  |    |    | 1  | 1  | 1  |\n",
    "| C  | 1  |    |    |    | 1  | 1  |    |    |\n",
    "| D  |    | 1  |    | 1  |    |    | 1  |    |"
   ]
  },
  {
   "cell_type": "markdown",
   "id": "7fef5d09",
   "metadata": {},
   "source": [
    "Los dos usuarios más semejantes a A son el C y D, por lo tanto debo comparar con ellos. Ahora sé que mis raitings faltantes los puedo calcular en función de los raitings de C y D. Asumo que los espacios faltantes son productos no comprados, pero en el resto de ejercicios no se puede.\n",
    "\n",
    "```\n",
    "R_a1 = (0.5 * 1 + 0 * 0.2)/0.7 = 1\n",
    "R_a3 = 0\n",
    "R_a4 = (0.5 * 0 + 1 * 0.2)/0.7 = 0.2857\n",
    "R_a7 = (0.5 * 0 + 1 * 0.2)/0.7 = 0.2857\n",
    "R_a8 = 0\n",
    "``` \n",
    "\n",
    "Hasta ahora recomendaríamos el producto 1 en primer lugar y faltaría desempatar por los productos 4 y 7 usando CF ítem-ítem."
   ]
  },
  {
   "cell_type": "code",
   "execution_count": 24,
   "id": "cf647919",
   "metadata": {
    "scrolled": true
   },
   "outputs": [
    {
     "name": "stdout",
     "output_type": "stream",
     "text": [
      "Sim(P4,P2) = 0.5\n",
      "Sim(P7,P2) = 0.3333333333333333\n",
      "Sim(P4,P5) = 0.0\n",
      "Sim(P7,P5) = 0.0\n",
      "Sim(P4,P6) = 0.0\n",
      "Sim(P7,P6) = 0.25\n"
     ]
    }
   ],
   "source": [
    "P2 = {'A', 'D'}\n",
    "P4 = {'D'}\n",
    "P7 = {'B', 'D'}\n",
    "P5 = {'A', 'C'}\n",
    "P6 = {'A', 'B', 'C'}\n",
    "\n",
    "for productdata in [(P2, 'P2'), (P5, 'P5'), (P6, 'P6')]:\n",
    "    product = productdata[0]\n",
    "    productname = productdata[1]\n",
    "    print(f\"Sim(P4,{productname}) = {jaccard(P4,product)}\")     \n",
    "    print(f\"Sim(P7,{productname}) = {jaccard(P7,product)}\") "
   ]
  },
  {
   "cell_type": "markdown",
   "id": "d34aa7d3",
   "metadata": {},
   "source": [
    "Vamos a desempatar con esta fórmula:\n",
    "\n",
    "$R_{User, Ítem} = \\frac{\\sum \\text{Sim}(Ítem,x) \\cdot R_{User,x}}{\\sum \\text{Sim}(Ítem,x)}$ siendo x el resto de ítems."
   ]
  },
  {
   "cell_type": "markdown",
   "id": "f4db76ac",
   "metadata": {},
   "source": [
    "```\n",
    "R_a4 = (1/2)/(1/2+1/2) = 1/2\n",
    "R_a7 = (1/3+1/4)/(1/3+1/4+3*1/2) = 0.28\n",
    "```\n",
    "\n",
    "Por lo tanto el orden final de recomendación es: $R_{a,p_1} > R_{a,p_4} > R_{a,p_7}$"
   ]
  },
  {
   "cell_type": "markdown",
   "id": "bc52773e",
   "metadata": {},
   "source": [
    "***2. a. Usando Collaborative Filtering item-item calcular la calificación del usuario 2 para la película 1, considerando 2 items similares.***\n",
    "\n",
    "***2. b. Usando Collaborative Filtering en base a desviaciones calcular la calificación del usuario 2 para la película\n",
    "1, considerando 2 items similares.***\n",
    "\n",
    "***2. c. ¿Qué conclusiones se pueden sacar de la comparación de ambos resultados?***\n"
   ]
  },
  {
   "cell_type": "markdown",
   "id": "1e71bc7b",
   "metadata": {},
   "source": [
    "Debo calcular que dos ítems son más similares entre la película 1 y el resto.\n",
    "\n",
    "```\n",
    "Sim(p1,p2) = -0.9609069544270727\n",
    "Sim(p1,p3) =  0.6575959492214292\n",
    "Sim(p1,p4) = -0.837610596838614\n",
    "Sim(p1,p5) = -0.8890008890013337\n",
    "Sim(p1,p6) =  0.7675194639536289\n",
    "```\n",
    "\n",
    "Las películas más similares a la 1 son la 3 y 6. Ahora debo calcular el resultado esperado:\n",
    "\n",
    "```\n",
    "R_user2,p1 = R_p1,user2 = (Sim(p1,p3) * 4)/Sim(p1,p3) = 4\n",
    "```\n",
    "\n",
    "No usamos la película 6 pues no la vio el usuario"
   ]
  },
  {
   "cell_type": "markdown",
   "id": "f898fe9a",
   "metadata": {},
   "source": [
    "Ahora debo calcular en función de las desviaciones: $\\mu = 3.17, \\delta_{U2} = -0.17, \\delta_{P1} = 0.43$\n",
    "\n",
    "```\n",
    "delta_{U2,P1} = (0.6576 * (4 - (3.17 - 0.17 + 0.43 - 0.17)))/0.6576 = 4 - (3.17 - 0.17 + 0.43 - 0.17) = 0.74\n",
    "```\n",
    "\n",
    "(siendo que $\\delta_{P3} = 3 - \\mu = -0.17$)"
   ]
  },
  {
   "cell_type": "markdown",
   "id": "1952b078",
   "metadata": {},
   "source": [
    "El raiting final nos queda: \n",
    "\n",
    "``` \n",
    "3.17 - 0.17 + 0.43 + 0.74 = 4.17\n",
    "``` "
   ]
  },
  {
   "cell_type": "markdown",
   "id": "ab75e2f0",
   "metadata": {},
   "source": [
    "***8. Se sabe que el promedio global de un conjunto de calificaciones de películas es de 2,28. Sabiendo que el usuario “Ariel” ha realizado las siguientes calificaciones: 1, 4, 2, 1, 1; y que la película “Interstellar” tiene las siguientes calificaciones: 5, 4, 1, 3; ¿cuál sería la estimación de la calificación de “Ariel” para “Interstellar”?***\n",
    "\n"
   ]
  },
  {
   "cell_type": "markdown",
   "id": "4c53ced2",
   "metadata": {},
   "source": [
    "Sabemos que $\\mu = 2.28$. Luego $\\delta_{\\text{Ariel}} = \\text{avg}(\\text{Ariel}) - \\mu = \\frac{1 + 4 + 2 + 1 + 1}{5} - 2.28 = -0.48$ y $\\delta_{\\text{Interstellar}} = \\text{avg}(\\text{Interstellar}) - \\mu = \\frac{5 + 4 + 1 + 3}{4} - 2.28 = 0.97$."
   ]
  },
  {
   "cell_type": "markdown",
   "id": "1e924fd4",
   "metadata": {},
   "source": [
    "Falta calcular $\\delta_{\\text{Ariel, Interstellar}}$ pero sin data de otras películas solo puedo asumir que $\\delta_{\\text{Ariel, Interstellar}} = 0 \\implies R_{\\text{Ariel, Interstellar}} = \\mu + \\delta_{\\text{Ariel}} + \\delta_{\\text{Interstellar}} = 2.28 - 0.48 + 0.97 = 2.77$"
   ]
  }
 ],
 "metadata": {
  "kernelspec": {
   "display_name": "Python 3",
   "language": "python",
   "name": "python3"
  },
  "language_info": {
   "codemirror_mode": {
    "name": "ipython",
    "version": 3
   },
   "file_extension": ".py",
   "mimetype": "text/x-python",
   "name": "python",
   "nbconvert_exporter": "python",
   "pygments_lexer": "ipython3",
   "version": "3.9.0"
  }
 },
 "nbformat": 4,
 "nbformat_minor": 5
}
