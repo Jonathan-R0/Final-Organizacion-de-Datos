{
 "cells": [
  {
   "cell_type": "markdown",
   "id": "c118d4d3",
   "metadata": {},
   "source": [
    "# Page Rank y Redes Sociales"
   ]
  },
  {
   "cell_type": "code",
   "execution_count": 2,
   "id": "fbf0b1d3",
   "metadata": {},
   "outputs": [],
   "source": [
    "import numpy as np"
   ]
  },
  {
   "cell_type": "markdown",
   "id": "adae69fc",
   "metadata": {},
   "source": [
    "***1. Explicar el fenómeno de “mundo pequeño”, indicando en qué casos se da y cuáles son las características de un grafo en el que se presenta.***"
   ]
  },
  {
   "cell_type": "markdown",
   "id": "7ec70013",
   "metadata": {},
   "source": [
    "Creo que se refiere al hecho de que si todas las personas pudieran formar una red social, podríamos conectar a cualquier par de personas con tan solo un camino de longitud 6 (dentro del grafo)."
   ]
  },
  {
   "cell_type": "markdown",
   "id": "a8e702e8",
   "metadata": {},
   "source": [
    "***2. Se tiene la siguiente información parcial sobre un grafo dirigido al cual se le ha aplicado PageRank hasta la convergencia:***\n",
    "\n",
    "• El PageRank de A es 0,15;\n",
    "\n",
    "• A tiene 2 links: uno hacia C y otro hacia B;\n",
    "\n",
    "• C recibe solo dos links, uno de los cuales viene de B;\n",
    "\n",
    "• El PageRank de D es 0,1;\n",
    "\n",
    "• B recibe un solo link;\n",
    "\n",
    "• D solo recibe un link que viene de C;\n",
    "\n",
    "• Desde C solo sale un link.\n",
    "\n",
    "***¿Cuántos links salen desde B? Justificar detalladamente.***"
   ]
  },
  {
   "cell_type": "markdown",
   "id": "609ec0c6",
   "metadata": {},
   "source": [
    "Tengo que plantear la siguiente ecuación:\n",
    "\n",
    "$PR_C = \\frac{PR_A}{2} + \\frac{PR_B}{N}$\n",
    "\n",
    "Y como el PageRank de C es el mismo de D, pues todo el PageRank de C va hacia D, vemos que:\n",
    "\n",
    "$PR_D = \\frac{PR_A}{2} + \\frac{PR_B}{N}$\n",
    "\n",
    "Y como el PageRank de B es la mitad del PageRank de A llegamos a: \n",
    "\n",
    "$PR_D = \\frac{PR_A}{2} + \\frac{PR_A}{2N}$\n",
    "\n",
    "Por lo tanto solo falta despejar la ecuación, una vez hacemos esto llegamos a que $N = 3$. \n"
   ]
  },
  {
   "cell_type": "markdown",
   "id": "c35ad79a",
   "metadata": {},
   "source": [
    "***3. Dado el siguiente grafo***\n",
    "\n",
    "***a. Hallar la matriz de transición***\n",
    "\n",
    "***b. Analizar qué problemas presenta la misma para poder aplicar el modelo de Random Walker, y cómo es\n",
    "que los mismos se detectan***"
   ]
  },
  {
   "cell_type": "markdown",
   "id": "4e83b437",
   "metadata": {},
   "source": [
    "|   | A | B   | C   | D   | E   | F   | G |\n",
    "|---|---|-----|-----|-----|-----|-----|---|\n",
    "| A | 0 | 1/2 | 0   | 0   | 0   | 0   | 0 |\n",
    "| B | 0 | 0   | 1   | 1/3 | 0   | 0   | 0 |\n",
    "| C | 0 | 0   | 0   | 1/3 | 0   | 0   | 0 |\n",
    "| D | 0 | 1/2 | 0   | 0   | 1/2 | 0   | 0 |\n",
    "| E | 0 | 0   | 0   | 0   | 0   | 1   | 0 |\n",
    "| F | 0 | 0   | 0   | 1/3 | 0   | 0   | 0 |\n",
    "| G | 0 | 0   | 0   | 0   | 1/2 | 0   | 0 |"
   ]
  },
  {
   "cell_type": "markdown",
   "id": "3c26f3f0",
   "metadata": {},
   "source": [
    "Los nodos A y G son dead end pues todo el PageRank quedará atrapado ahí."
   ]
  },
  {
   "cell_type": "markdown",
   "id": "f1a8477c",
   "metadata": {},
   "source": [
    "***4. Una empresa de alquiler de monopatines eléctricos tiene 4 estaciones (A, B, C, D) en donde los usuarios pueden alquilar monopatines. En experimentos iniciales, la empresa pudo determinar con qué frecuencia los usuarios van desde una estación a otra. Dicha información se presenta en la siguiente tabla.***\n",
    "\n",
    "***A partir de la información anterior, aplicar PageRank para determinar la cantidad de monopatines que se deben asignar a cada estación al comienzo de cada día, considerando que el total de monopatines de la empresa es 100.***"
   ]
  },
  {
   "cell_type": "code",
   "execution_count": 3,
   "id": "ff4b7de6",
   "metadata": {},
   "outputs": [
    {
     "data": {
      "text/plain": [
       "array([[0.25      , 0.66666667, 0.05714286, 0.        ],\n",
       "       [0.4       , 0.        , 0.14285714, 0.24      ],\n",
       "       [0.15      , 0.2       , 0.14285714, 0.6       ],\n",
       "       [0.2       , 0.13333333, 0.65714286, 0.16      ]])"
      ]
     },
     "execution_count": 3,
     "metadata": {},
     "output_type": "execute_result"
    }
   ],
   "source": [
    "M4 = np.array([[5/20, 10/15, 2/35, 0/25],\n",
    "               [8/20, 0/15, 5/35, 6/25],\n",
    "               [3/20, 3/15, 5/35, 15/25],\n",
    "               [4/20, 2/15, 23/35, 4/25]])\n",
    "M4"
   ]
  },
  {
   "cell_type": "code",
   "execution_count": 4,
   "id": "4c1b0806",
   "metadata": {
    "scrolled": true
   },
   "outputs": [
    {
     "data": {
      "text/plain": [
       "array([0.25, 0.25, 0.25, 0.25])"
      ]
     },
     "execution_count": 4,
     "metadata": {},
     "output_type": "execute_result"
    }
   ],
   "source": [
    "v4 = np.array([1/4, 1/4, 1/4, 1/4])\n",
    "v4"
   ]
  },
  {
   "cell_type": "code",
   "execution_count": 5,
   "id": "f2c3cdd2",
   "metadata": {},
   "outputs": [
    {
     "data": {
      "text/plain": [
       "array([19.65334757, 19.56110113, 29.73734039, 31.0482109 ])"
      ]
     },
     "execution_count": 5,
     "metadata": {},
     "output_type": "execute_result"
    }
   ],
   "source": [
    "for i in range(1,1000):\n",
    "    v4 = np.dot(M4, v4)\n",
    "v4 * 100"
   ]
  },
  {
   "cell_type": "markdown",
   "id": "a8fdbb50",
   "metadata": {},
   "source": [
    "Apliqué pagerank hasta que los valores convergan. Ahora sabemos, en función de eso, cuantos monopatines le tenemos que asignar a cada estación."
   ]
  },
  {
   "cell_type": "markdown",
   "id": "b82b02bf",
   "metadata": {},
   "source": [
    "***5. Sea el grafo dirigido G cuya lista de aristas es la siguiente: (A B), (B C), (B D), (D E), (E C), (C A), (C D). Se sabe que los valores de PageRank actuales de los nodos son: A = 0,31 B = 0,30 C = 0,08 D = 0,12 E = 0,19.***\n",
    "\n",
    "***Calcular el valor de PageRank de cada nodo para la siguiente iteración, usando B = 0,8.***\n"
   ]
  },
  {
   "cell_type": "markdown",
   "id": "e70ea520",
   "metadata": {},
   "source": [
    "Asumiendo que $B = 0.8$ es $\\beta$ entonces armamos la matriz de teletransportación en función de la original y multiplicamos por los PageRanks:"
   ]
  },
  {
   "cell_type": "code",
   "execution_count": 6,
   "id": "17d5630a",
   "metadata": {},
   "outputs": [
    {
     "data": {
      "text/plain": [
       "array([[0.2, 0.2, 0.2, 0.2, 0.2],\n",
       "       [0.2, 0.2, 0.2, 0.2, 0.2],\n",
       "       [0.2, 0.2, 0.2, 0.2, 0.2],\n",
       "       [0.2, 0.2, 0.2, 0.2, 0.2],\n",
       "       [0.2, 0.2, 0.2, 0.2, 0.2]])"
      ]
     },
     "execution_count": 6,
     "metadata": {},
     "output_type": "execute_result"
    }
   ],
   "source": [
    "N5 = np.array([[1/5]*5]*5)\n",
    "N5"
   ]
  },
  {
   "cell_type": "code",
   "execution_count": 7,
   "id": "1334d5aa",
   "metadata": {
    "scrolled": true
   },
   "outputs": [
    {
     "data": {
      "text/plain": [
       "array([[0. , 0. , 0.5, 0. , 0. ],\n",
       "       [1. , 0. , 0. , 0. , 0. ],\n",
       "       [0. , 0.5, 0. , 0. , 1. ],\n",
       "       [0. , 0.5, 0.5, 0. , 0. ],\n",
       "       [0. , 0. , 0. , 1. , 0. ]])"
      ]
     },
     "execution_count": 7,
     "metadata": {},
     "output_type": "execute_result"
    }
   ],
   "source": [
    "M5 = np.array([[0,1,0,0,0],[0,0,0.5,0.5,0],[0.5,0,0,0.5,0],[0,0,0,0,1],[0,0,1,0,0]]).transpose()\n",
    "M5"
   ]
  },
  {
   "cell_type": "code",
   "execution_count": 8,
   "id": "372f64b5",
   "metadata": {},
   "outputs": [
    {
     "data": {
      "text/plain": [
       "array([0.31, 0.3 , 0.08, 0.12, 0.19])"
      ]
     },
     "execution_count": 8,
     "metadata": {},
     "output_type": "execute_result"
    }
   ],
   "source": [
    "v5 = np.array([0.31, 0.3, 0.08, 0.12, 0.19])\n",
    "v5"
   ]
  },
  {
   "cell_type": "code",
   "execution_count": 9,
   "id": "87f90e81",
   "metadata": {
    "scrolled": true
   },
   "outputs": [
    {
     "data": {
      "text/plain": [
       "array([[0.04, 0.04, 0.44, 0.04, 0.04],\n",
       "       [0.84, 0.04, 0.04, 0.04, 0.04],\n",
       "       [0.04, 0.44, 0.04, 0.04, 0.84],\n",
       "       [0.04, 0.44, 0.44, 0.04, 0.04],\n",
       "       [0.04, 0.04, 0.04, 0.84, 0.04]])"
      ]
     },
     "execution_count": 9,
     "metadata": {},
     "output_type": "execute_result"
    }
   ],
   "source": [
    "beta = 0.8\n",
    "M5_teleport = beta * M5 + (1-beta) * N5\n",
    "M5_teleport"
   ]
  },
  {
   "cell_type": "markdown",
   "id": "972fcb6f",
   "metadata": {},
   "source": [
    "Y vemos la próxima iteración"
   ]
  },
  {
   "cell_type": "code",
   "execution_count": 10,
   "id": "6760a0f9",
   "metadata": {
    "scrolled": false
   },
   "outputs": [
    {
     "data": {
      "text/plain": [
       "array([0.072, 0.288, 0.312, 0.192, 0.136])"
      ]
     },
     "execution_count": 10,
     "metadata": {},
     "output_type": "execute_result"
    }
   ],
   "source": [
    "np.dot(M5_teleport, v5)"
   ]
  },
  {
   "cell_type": "markdown",
   "id": "5893b1fd",
   "metadata": {},
   "source": [
    "***9. Dado el siguiente grafo:***\n",
    "\n",
    "***a. Mostrar la distribución de grados;***\n",
    "\n",
    "***b. Indicar cuál es el diámetro de la red;***\n",
    "\n",
    "***c. Calcular el coeficiente de clustering promedio;***\n",
    "\n",
    "***d. Comparar dichos valores con los valores característicos de una red social, analizando semejanzas y diferencias***"
   ]
  },
  {
   "cell_type": "markdown",
   "id": "51301e38",
   "metadata": {},
   "source": [
    "Distribucion de grados:\n",
    "\n",
    "```\n",
    "A -> 4\n",
    "B -> 2\n",
    "C -> 2\n",
    "D -> 3\n",
    "E -> 3\n",
    "F -> 3\n",
    "G -> 3\n",
    "```"
   ]
  },
  {
   "cell_type": "markdown",
   "id": "3e8fb65c",
   "metadata": {},
   "source": [
    "Diametro de la red: 3"
   ]
  },
  {
   "cell_type": "markdown",
   "id": "e2974d7f",
   "metadata": {},
   "source": [
    "El coeficiente de clustering promedio se calcula como:\n",
    "\n",
    "```\n",
    "A -> 1/2\n",
    "B -> 1\n",
    "C -> 0\n",
    "D -> 1/3\n",
    "E -> 1/3\n",
    "F -> 1/3\n",
    "G -> 1/3\n",
    "```"
   ]
  },
  {
   "cell_type": "markdown",
   "id": "f98c1fec",
   "metadata": {},
   "source": [
    "Las redes sociales tienden a seguir la distribucion de power law, donde la cantidad de nodos \n",
    "con grado $k$ se calcula mediante $\\frac{1}{k}$, pero vemos que nuestro grafo no sigue dicha distribución. Luego el diámetro de de una red social suele ser bajo, siendo del orden de `log10(n)`, \n",
    "    pero vemos que $log_{10}(7) \\approx 0.8 << 3$ asi que no es como una red social\n",
    "en este sentido tampoco. Finalmente el coeficiente de clustering promedio para una\n",
    "red social suele ser bastante alto (cercano a 1) mientras que el nuestro es bajo\n",
    "(0.35) asi que nuestro grafo no presenta ningun similitud en estos parametros\n",
    "comparable con la de una red social."
   ]
  },
  {
   "cell_type": "markdown",
   "id": "181a9e22",
   "metadata": {},
   "source": [
    "***11. Realizar TopicRank del topic 1 asociado al grafo dado por lo siguiente:***\n",
    "\n",
    "• ***A pertenece al topic 1 y enlaza con B, C y E;***\n",
    "\n",
    "• ***B pertenece al topic 1 y enlaza con A y E;***\n",
    "\n",
    "• ***C pertenece al topic 2 y enlaza con A, C y D;***\n",
    "\n",
    "• ***D pertenece al topic 1 y enlaza con E;***\n",
    "\n",
    "• ***E pertenece al topic 2 y no tiene más links.***\n",
    "\n",
    "\n",
    "***Realizar 3 iteraciones con beta en 0,3 y rankear los resultados. Determinar si puede considerar que los resultados son adecuados y por qué.***\n"
   ]
  },
  {
   "cell_type": "code",
   "execution_count": 47,
   "id": "e1b99e65",
   "metadata": {},
   "outputs": [
    {
     "data": {
      "text/plain": [
       "array([[0.        , 0.5       , 0.33333333, 0.        , 0.2       ],\n",
       "       [0.33333333, 0.        , 0.        , 0.        , 0.2       ],\n",
       "       [0.33333333, 0.        , 0.33333333, 0.        , 0.2       ],\n",
       "       [0.        , 0.        , 0.33333333, 0.        , 0.2       ],\n",
       "       [0.33333333, 0.5       , 0.        , 1.        , 0.2       ]])"
      ]
     },
     "execution_count": 47,
     "metadata": {},
     "output_type": "execute_result"
    }
   ],
   "source": [
    "M11 = np.array([[0, 1/3, 1/3, 0, 1/3], [1/2, 0, 0, 0, 1/2],\n",
    "                [1/3, 0, 1/3, 1/3, 0], [0, 0, 0, 0, 1], [0.2, 0.2, 0.2, 0.2, 0.2]]).transpose()\n",
    "M11"
   ]
  },
  {
   "cell_type": "code",
   "execution_count": 48,
   "id": "f3d846b2",
   "metadata": {},
   "outputs": [
    {
     "data": {
      "text/plain": [
       "array([[0.33333333, 0.33333333, 0.33333333, 0.33333333, 0.33333333],\n",
       "       [0.33333333, 0.33333333, 0.33333333, 0.33333333, 0.33333333],\n",
       "       [0.        , 0.        , 0.        , 0.        , 0.        ],\n",
       "       [0.33333333, 0.33333333, 0.33333333, 0.33333333, 0.33333333],\n",
       "       [0.        , 0.        , 0.        , 0.        , 0.        ]])"
      ]
     },
     "execution_count": 48,
     "metadata": {},
     "output_type": "execute_result"
    }
   ],
   "source": [
    "N11 = np.array([[1/3, 1/3, 0 , 1/3, 0], [1/3, 1/3, 0 , 1/3, 0], [1/3, 1/3, 0 , 1/3, 0],\n",
    "                [1/3, 1/3, 0 , 1/3, 0], [1/3,1/3, 0, 1/3 , 0]]).transpose()\n",
    "N11"
   ]
  },
  {
   "cell_type": "code",
   "execution_count": 49,
   "id": "0bb83448",
   "metadata": {},
   "outputs": [
    {
     "data": {
      "text/plain": [
       "array([[0.23333333, 0.38333333, 0.33333333, 0.23333333, 0.29333333],\n",
       "       [0.33333333, 0.23333333, 0.23333333, 0.23333333, 0.29333333],\n",
       "       [0.1       , 0.        , 0.1       , 0.        , 0.06      ],\n",
       "       [0.23333333, 0.23333333, 0.33333333, 0.23333333, 0.29333333],\n",
       "       [0.1       , 0.15      , 0.        , 0.3       , 0.06      ]])"
      ]
     },
     "execution_count": 49,
     "metadata": {},
     "output_type": "execute_result"
    }
   ],
   "source": [
    "beta = 0.3\n",
    "M11_teleport = beta * M11 + (1 - beta)*N11\n",
    "M11_teleport"
   ]
  },
  {
   "cell_type": "code",
   "execution_count": 50,
   "id": "7a39422b",
   "metadata": {},
   "outputs": [
    {
     "data": {
      "text/plain": [
       "array([0.28744187, 0.27127387, 0.04214587, 0.24691387, 0.15222453])"
      ]
     },
     "execution_count": 50,
     "metadata": {},
     "output_type": "execute_result"
    }
   ],
   "source": [
    "v11 = np.array([1/5, 1/5, 1/5, 1/5, 1/5])\n",
    "for i in range(0,3):\n",
    "    v11 = np.dot(M11_teleport, v11)\n",
    "v11"
   ]
  },
  {
   "cell_type": "markdown",
   "id": "65092b25",
   "metadata": {},
   "source": [
    "***14. Aplicar PageRank para el siguiente grafo hasta la convergencia, indicando el ranking final de cada nodo (tomar beta en 0,8).***"
   ]
  },
  {
   "cell_type": "code",
   "execution_count": 62,
   "id": "627e9226",
   "metadata": {},
   "outputs": [
    {
     "data": {
      "text/plain": [
       "array([[0.        , 0.        , 0.        , 0.33333333, 0.        ,\n",
       "        0.        , 0.14285714],\n",
       "       [1.        , 0.        , 0.        , 0.        , 0.5       ,\n",
       "        0.        , 0.14285714],\n",
       "       [0.        , 1.        , 0.        , 0.        , 0.5       ,\n",
       "        1.        , 0.14285714],\n",
       "       [0.        , 0.        , 1.        , 0.        , 0.        ,\n",
       "        0.        , 0.14285714],\n",
       "       [0.        , 0.        , 0.        , 0.        , 0.        ,\n",
       "        0.        , 0.14285714],\n",
       "       [0.        , 0.        , 0.        , 0.33333333, 0.        ,\n",
       "        0.        , 0.14285714],\n",
       "       [0.        , 0.        , 0.        , 0.33333333, 0.        ,\n",
       "        0.        , 0.14285714]])"
      ]
     },
     "execution_count": 62,
     "metadata": {},
     "output_type": "execute_result"
    }
   ],
   "source": [
    "M14 = np.array([[0,1,0,0,0,0,0], [0,0,1,0,0,0,0], [0,0,0,1,0,0,0], [1/3,0,0,0,0,1/3,1/3], \n",
    "                [0,1/2,1/2,0,0,0,0], [0,0,1,0,0,0,0], [1/7,1/7,1/7,1/7,1/7,1/7,1/7]]).transpose()\n",
    "M14"
   ]
  },
  {
   "cell_type": "code",
   "execution_count": 54,
   "id": "6867701a",
   "metadata": {},
   "outputs": [
    {
     "data": {
      "text/plain": [
       "array([[0.14285714],\n",
       "       [0.14285714],\n",
       "       [0.14285714],\n",
       "       [0.14285714],\n",
       "       [0.14285714],\n",
       "       [0.14285714],\n",
       "       [0.14285714]])"
      ]
     },
     "execution_count": 54,
     "metadata": {},
     "output_type": "execute_result"
    }
   ],
   "source": [
    "N14 = np.array([[1/7]*7])\n",
    "N14.transpose()"
   ]
  },
  {
   "cell_type": "code",
   "execution_count": 63,
   "id": "e0571550",
   "metadata": {
    "scrolled": true
   },
   "outputs": [
    {
     "data": {
      "text/plain": [
       "array([[0.02857143, 0.02857143, 0.02857143, 0.2952381 , 0.02857143,\n",
       "        0.02857143, 0.14285714],\n",
       "       [0.82857143, 0.02857143, 0.02857143, 0.02857143, 0.42857143,\n",
       "        0.02857143, 0.14285714],\n",
       "       [0.02857143, 0.82857143, 0.02857143, 0.02857143, 0.42857143,\n",
       "        0.82857143, 0.14285714],\n",
       "       [0.02857143, 0.02857143, 0.82857143, 0.02857143, 0.02857143,\n",
       "        0.02857143, 0.14285714],\n",
       "       [0.02857143, 0.02857143, 0.02857143, 0.02857143, 0.02857143,\n",
       "        0.02857143, 0.14285714],\n",
       "       [0.02857143, 0.02857143, 0.02857143, 0.2952381 , 0.02857143,\n",
       "        0.02857143, 0.14285714],\n",
       "       [0.02857143, 0.02857143, 0.02857143, 0.2952381 , 0.02857143,\n",
       "        0.02857143, 0.14285714]])"
      ]
     },
     "execution_count": 63,
     "metadata": {},
     "output_type": "execute_result"
    }
   ],
   "source": [
    "M14_teleport = beta * M14 + (1 - beta)*N14\n",
    "M14_teleport"
   ]
  },
  {
   "cell_type": "code",
   "execution_count": 56,
   "id": "cfb21f58",
   "metadata": {},
   "outputs": [],
   "source": [
    "iterar = lambda beta,M,N,v: beta * np.dot(M,v) + (1 - beta) * N"
   ]
  },
  {
   "cell_type": "code",
   "execution_count": 64,
   "id": "b8bc8728",
   "metadata": {},
   "outputs": [
    {
     "data": {
      "text/plain": [
       "array([0.11845102, 0.11739886, 0.21532695, 0.2741491 , 0.03777204,\n",
       "       0.11845102, 0.11845102])"
      ]
     },
     "execution_count": 64,
     "metadata": {},
     "output_type": "execute_result"
    }
   ],
   "source": [
    "beta = 0.8\n",
    "v14 = np.array([1/7]*7)\n",
    "for i in range(0,3):\n",
    "    v14 = np.dot(M14_teleport, v14)\n",
    "v14"
   ]
  },
  {
   "cell_type": "code",
   "execution_count": 65,
   "id": "b05485b7",
   "metadata": {},
   "outputs": [
    {
     "data": {
      "text/plain": [
       "0.9999999999999998"
      ]
     },
     "execution_count": 65,
     "metadata": {},
     "output_type": "execute_result"
    }
   ],
   "source": [
    "sum(v14)"
   ]
  }
 ],
 "metadata": {
  "kernelspec": {
   "display_name": "Python 3",
   "language": "python",
   "name": "python3"
  },
  "language_info": {
   "codemirror_mode": {
    "name": "ipython",
    "version": 3
   },
   "file_extension": ".py",
   "mimetype": "text/x-python",
   "name": "python",
   "nbconvert_exporter": "python",
   "pygments_lexer": "ipython3",
   "version": "3.9.0"
  }
 },
 "nbformat": 4,
 "nbformat_minor": 5
}
