{
 "cells": [
  {
   "cell_type": "markdown",
   "id": "2698d1bc",
   "metadata": {},
   "source": [
    "# Redes Neuronales"
   ]
  },
  {
   "cell_type": "markdown",
   "id": "78ff7f44",
   "metadata": {},
   "source": [
    "***1. Explicar en qué consiste Transfer Learning.***"
   ]
  },
  {
   "cell_type": "markdown",
   "id": "6ab800e0",
   "metadata": {},
   "source": [
    "Basicamente tiene que ver con reutilizar la información adquirida en aprendizaje anterior. Más información [aca](https://en.wikipedia.org/wiki/Transfer_learning)."
   ]
  },
  {
   "cell_type": "markdown",
   "id": "f2a5ce67",
   "metadata": {},
   "source": [
    "***3. En este ejercicio se plantea la aplicación de Redes Convoluciones para textos. Se tienen oraciones de un texto y se quiere clasificarlas en 10 categorías diferentes. Se quiere usar cada palabra del texto como una unidad indivisible.***\n",
    "\n",
    "***a) Explicar cómo se aplicaría una capa de convolución sobre el texto, cuáles serían los hiperparámetros a definir, y cuáles son los parámetros que debe encontrar la red neuronal.***\n",
    "\n",
    "***b) Diseñar y explicar una arquitectura para resolver el problema propuesto usando una única capa de\n",
    "convolución, una de pooling, una capa fully-connected y luego la capa final para clasificar. Justificar.***"
   ]
  },
  {
   "cell_type": "markdown",
   "id": "d4a4a138",
   "metadata": {},
   "source": [
    "Transformamos cada oración en el conjunto de vectores que representan las palabras hasheadas. Los mismos son luego procesados por diferentes filtros convolucionales (producto interno) y entre los resultados de los filtros se puede hacer un max pooling para generar un vector reducible por una softmax.\n",
    "\n",
    "Los hiperparámetros son la cantidad de filtros a usar y los coeficientes de los mismos, la dimensionalidad de estos y los hiperparámetros de la red que le sigue."
   ]
  },
  {
   "cell_type": "markdown",
   "id": "8fc61a03",
   "metadata": {},
   "source": [
    "***4. Se parte de imágenes RGB de 20x20 píxeles que se quieren clasificar entre 3 clases posibles con una red neuronal convolucional. Se aplica una capa convolucional del tipo “same” con 5 filtros de 3x3, luego se aplica una capa max pooling de 4x4 con stride de 4, a continuación una capa fully-connected y finalmente una capa softmax.***\n",
    "\n",
    "***a. Diagramar el modelo de red. ¿Cuántas neuronas tienen las dos últimas capas del modelo?***\n",
    "\n",
    "***b. ¿Cuántos parámetros se deben entrenar en total?***"
   ]
  },
  {
   "cell_type": "markdown",
   "id": "8f7017e0",
   "metadata": {},
   "source": [
    "Se puede diagramar en [esta página](http://alexlenail.me/NN-SVG/LeNet.html)."
   ]
  }
 ],
 "metadata": {
  "kernelspec": {
   "display_name": "Python 3",
   "language": "python",
   "name": "python3"
  },
  "language_info": {
   "codemirror_mode": {
    "name": "ipython",
    "version": 3
   },
   "file_extension": ".py",
   "mimetype": "text/x-python",
   "name": "python",
   "nbconvert_exporter": "python",
   "pygments_lexer": "ipython3",
   "version": "3.9.0"
  }
 },
 "nbformat": 4,
 "nbformat_minor": 5
}
