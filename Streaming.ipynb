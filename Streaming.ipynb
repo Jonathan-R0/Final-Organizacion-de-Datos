{
 "cells": [
  {
   "cell_type": "markdown",
   "id": "c1f4adf1",
   "metadata": {},
   "source": [
    "# Streaming"
   ]
  },
  {
   "cell_type": "markdown",
   "id": "0e54c79d",
   "metadata": {},
   "source": [
    "***1. “DealExtreme” es una empresa que vende una enorme cantidad de productos importados de bajo costo\n",
    "de China. Se analiza un stream en donde se recibe el ID de cada producto vendido. Cada vez que se venden 100 unidades de un determinado producto, el departamento de marketing publica un pequeño aviso sobre el mismo. Esto permite aumentar aún más las ventas de los productos populares.***\n",
    "\n",
    "***A la gente de marketing se le ocurrió también que sería una buena idea publicitar los productos que no han llegado nunca a las 100 ventas. Para ello, crearon una campaña en la cual crean un aviso especial para los productos vendidos los días viernes que nunca tuvieron publicado un aviso.***\n",
    "\n",
    "***Diseñar una solución que, a través del procesamiento del stream, permita a la gente de marketing\n",
    "determinar si debe publicar un aviso o no en base al ID del producto.***\n",
    "\n",
    "***Observación: notar que no interesa la cantidad total de unidades vendidas para cada producto, sino\n",
    "simplemente la detección de cuándo la cantidad de ventas llega a 100.***"
   ]
  },
  {
   "cell_type": "markdown",
   "id": "a26c22d4",
   "metadata": {},
   "source": [
    "A medida que van llegando los ids de los productos vendidos, usamos un `bloom filter` para guardarse en un vector binario la información de si un producto fue efectivamente publicitados o no. La probabilidad de tener un falso positivo y negativo se calcularán en función de la cantidad de hashes a usar, etc.\n",
    "\n",
    "Luego para verificar la cantidad de ventas usamos un Count-Min, donde nos guardamos en muchos vectores los contadores en los índices de los hashes del elemento. "
   ]
  },
  {
   "cell_type": "markdown",
   "id": "1b884868",
   "metadata": {},
   "source": [
    "***2. Dado un stream compuesto por los siguientes números: 3, 1, 4, 1, 5, 9, 2, 6, 5; se quiere aplicar el algoritmo Flajolet-Martin para calcular el momento de orden 0 del stream usando una función de hashing de la familia: h(x) = ax + b mod 32. El resultado debe tomarse como un número de 5 bits contando la cantidad de ceros a derecha del mismo. No todos los valores de a y b son adecuados, por lo que se debe explicar qué valores son los más adecuados y por qué. A modo de ejemplo, analizar las funciones resultantes de usar: a = 2, b = 1; a = 3, b = 7; y a= 4, b = 0.***"
   ]
  },
  {
   "cell_type": "markdown",
   "id": "059fc2ae",
   "metadata": {},
   "source": [
    "Tenemos la siguiente data:"
   ]
  },
  {
   "cell_type": "code",
   "execution_count": 5,
   "id": "2b0eddc0",
   "metadata": {},
   "outputs": [],
   "source": [
    "stream = [3, 1, 4, 1, 5, 9, 2, 6, 5]\n",
    "h = lambda a,b,x: (a*x + b) % 32"
   ]
  },
  {
   "cell_type": "markdown",
   "id": "5b1f05e3",
   "metadata": {},
   "source": [
    "El momento de orden cero del stream es efectivamente 7. Esto se puede aproximar con Flajolet-Martin.\n",
    "Probemos las diferentes combinaciones:"
   ]
  },
  {
   "cell_type": "code",
   "execution_count": 13,
   "id": "06129bc3",
   "metadata": {},
   "outputs": [
    {
     "name": "stdout",
     "output_type": "stream",
     "text": [
      "\n",
      "a = 2, b = 1\n",
      "h(3) = 00111\n",
      "h(1) = 00011\n",
      "h(4) = 01001\n",
      "h(1) = 00011\n",
      "h(5) = 01011\n",
      "h(9) = 10011\n",
      "h(2) = 00101\n",
      "h(6) = 01101\n",
      "h(5) = 01011\n",
      "\n",
      "a = 3, b = 7\n",
      "h(3) = 10000\n",
      "h(1) = 01010\n",
      "h(4) = 10011\n",
      "h(1) = 01010\n",
      "h(5) = 10110\n",
      "h(9) = 00010\n",
      "h(2) = 01101\n",
      "h(6) = 11001\n",
      "h(5) = 10110\n",
      "\n",
      "a = 4, b = 0\n",
      "h(3) = 01100\n",
      "h(1) = 00100\n",
      "h(4) = 10000\n",
      "h(1) = 00100\n",
      "h(5) = 10100\n",
      "h(9) = 00100\n",
      "h(2) = 01000\n",
      "h(6) = 11000\n",
      "h(5) = 10100\n"
     ]
    }
   ],
   "source": [
    "a_usar = ((2,1), (3,7), (4,0))\n",
    "for tupla in a_usar:\n",
    "    a , b = tupla\n",
    "    print(f\"\\na = {a}, b = {b}\")\n",
    "    for s in stream:\n",
    "        nro = \"{:05b}\".format(h(a,b,s))\n",
    "        print(f\"h({s}) = {nro}\")"
   ]
  },
  {
   "cell_type": "markdown",
   "id": "d13246bd",
   "metadata": {},
   "source": [
    "Entonces, el algoritmo dice que la máxima cantidad de ceros a la derecha que podamos encontrar, representa la variable $r$, y según el algorítmo $2^r = M^0(S)$.\n",
    "\n",
    "En el caso de $a = 2, b = 1$ tenemos que $r = 0$ ya que la máxima cantidad de ceros que podemos encontrar a la derecha de cualquier hash, siempre va a ser nula. Por lo tanto estos coeficientes aproximan a $M^0(S) = 2^0 = 1$.\n",
    "\n",
    "En los otros dos casos $r = 4 \\implies M^0(S) = 2^4 = 16$ lo cual sigue siendo incorrecto. "
   ]
  },
  {
   "cell_type": "markdown",
   "id": "54689c00",
   "metadata": {},
   "source": [
    "Para encontrar el resultado correspondiente debemos pedir que la diferencia entre nuestra aproximación y el momento real sea mínima, y la potencia de 2 más cercana a 7 es 8. Por lo tanto queremos que $r = 3$ y eso se logra solamente si nuestra máxima cantidad de ceros a la derecha es 3.\n",
    "\n",
    "CASUALMENTE existe una solución con $(a,b) = (2,2)$ que asegura que $r = 3$"
   ]
  },
  {
   "cell_type": "markdown",
   "id": "6904a86f",
   "metadata": {},
   "source": [
    "***3. Se desea utilizar Flajolet-Martin para estimar la cantidad de elementos distintos en un stream. Suponer que de los 10 elementos posibles (números naturales del 1 al 10), solo 4 de ellos aparecen efectivamente en el stream. Para realizar la estimación, se puede hashear cada elemento en binarios de 4 bits con h(x) = 3x + 7 mod 11. Por ejemplo, para x = :, h(x) = 31 mod 11 = 9, por lo que en binario: h(x) = 1001. A los efectos de la implementación, contar los ceros del final del código (por ejemplo, para “0100”, son 2 ceros). Encontrar todos los subconjuntos de 4 elementos que hacen que la estimación sea exacta.***"
   ]
  },
  {
   "cell_type": "markdown",
   "id": "d1dc8018",
   "metadata": {},
   "source": [
    "Sabemos que $M^0(S) = 4 = 2^r$ por lo que debemos tener un hash que genere dos ceros al final."
   ]
  },
  {
   "cell_type": "code",
   "execution_count": 39,
   "id": "0d417a7f",
   "metadata": {},
   "outputs": [],
   "source": [
    "h2 = lambda x: (3*x + 7) % 11"
   ]
  },
  {
   "cell_type": "code",
   "execution_count": 43,
   "id": "a3aed877",
   "metadata": {},
   "outputs": [
    {
     "name": "stdout",
     "output_type": "stream",
     "text": [
      "i=1 -> h(i)=01010\n",
      "i=2 -> h(i)=00010\n",
      "i=3 -> h(i)=00101\n",
      "i=4 -> h(i)=01000\n",
      "i=5 -> h(i)=00000\n",
      "i=6 -> h(i)=00011\n",
      "i=7 -> h(i)=00110\n",
      "i=8 -> h(i)=01001\n",
      "i=9 -> h(i)=00001\n",
      "i=10 -> h(i)=00100\n"
     ]
    }
   ],
   "source": [
    "for i in range(1,11):\n",
    "    valor = \"{:05b}\".format(h2(i))\n",
    "    print(f\"i={i} -> h(i)={valor}\")"
   ]
  },
  {
   "cell_type": "markdown",
   "id": "472a5643",
   "metadata": {},
   "source": [
    "Sabemos que el 10 tiene que estar pues cumple que $r = 2$ y que el $4,5$ no pueden estar pues hacen que crezca $r$. Por lo tanto nuestro conjunto está compuesto por cualquier set de 3 números que no tengan el 4,5 y unión con el 10."
   ]
  },
  {
   "cell_type": "markdown",
   "id": "aaa14c5c",
   "metadata": {},
   "source": [
    "***4. Aplicando Reservoir Sampling con k = 4, se observa el siguiente stream: 5, 6, 7, 8. A continuación, se observa el elemento 3. Justificar cuál es la probabilidad de que 6 continúe en la muestra de Reservoir Sampling.***"
   ]
  },
  {
   "cell_type": "markdown",
   "id": "2ca62ef4",
   "metadata": {},
   "source": [
    "La probabilidad de que el 6 siga disponible es equivalente a pedir que un número aleatorio entre 0,1 (con distribución uniforme) sea menor a $\\frac{k}{n} \\implies p = \\frac{4}{5}$. "
   ]
  },
  {
   "cell_type": "markdown",
   "id": "735436d1",
   "metadata": {},
   "source": [
    "***5. a. Construir un filtro de bloom de 16 bits (m = 16) que contenga los caracteres “C” y “D”, para el universo de 5 (n = 5) caracteres: “A”, “B”, “C”, “D” y “E” considerando las siguientes funciones de hashing “h1” y “h2”. Tener en cuenta que la probabilidad de falsos positivos para la construcción es de 0,2.***"
   ]
  },
  {
   "cell_type": "markdown",
   "id": "e0942c5c",
   "metadata": {},
   "source": [
    "|    | A  | B | C | D | E |\n",
    "|----|----|---|---|---|---|\n",
    "| h1 | 13 | 8 | 4 | 4 | 3 |\n",
    "| h2 | 15 | 5 | 9 | 15| 7 |"
   ]
  },
  {
   "cell_type": "markdown",
   "id": "621925a0",
   "metadata": {},
   "source": [
    "***b. Sabiendo que el valor del “m” que se utilizó es óptimo, indicar si la cantidad de funciones de hashing utilizadas es óptima (justificar).***\n"
   ]
  },
  {
   "cell_type": "markdown",
   "id": "e7909f82",
   "metadata": {},
   "source": [
    "La probabilidad de falsos positivos es $0.2$. Prendo los bits correspondientes a los índices que dan los hashes:\n",
    "\n",
    "```\n",
    "filtro = [0,0,0,1,0,0,0,0,1,0,0,0,0,0,1]\n",
    "```"
   ]
  },
  {
   "cell_type": "markdown",
   "id": "ef8f5708",
   "metadata": {},
   "source": [
    "La cantidad de funciones de hashing se calcula con: $\\lfloor \\frac{16}{5} \\cdot ln(2) \\rfloor = 2$ por lo tanto estamos usando la cantidad correcta de hashes."
   ]
  },
  {
   "cell_type": "markdown",
   "id": "257cc5cd",
   "metadata": {},
   "source": [
    "***6. Dados los siguientes streams:***\n",
    "\n",
    "- E A B D C A E C B D\n",
    "\n",
    "- E A E B C E E D B E\n",
    "\n",
    "***estimar el número sorpresa utilizando AMS con 5 estimadores, y explicar qué conclusiones se pueden\n",
    "obtener de la comparación de los resultados para ambos streams.***"
   ]
  },
  {
   "cell_type": "markdown",
   "id": "a2a9a837",
   "metadata": {},
   "source": [
    "Tenemos que estimar el número sorpresa con AMS. Este dice que $M^2(S) = (n(2C_i - 1))$ pero como la cantidad de estimadores es igual a la cantidad de elementos únicos que tenemos, por lo tanto la aproximación siempre será igual al momento de orden dos real."
   ]
  },
  {
   "cell_type": "markdown",
   "id": "dd2624e2",
   "metadata": {},
   "source": [
    "***7. Se usa el algoritmo Count-Min con 3 filtros de 8 posiciones cada uno. El estado de los filtros está dado por:***\n",
    "\n",
    "```\n",
    "[0 2 4 2 0 0 3 5]\n",
    "[1 0 2 6 1 2 0 4]\n",
    "[0 0 3 3 3 2 4 1]\n",
    "```\n",
    "\n",
    "***Indicar cuáles de las siguientes afirmaciones son verdaderas (justificando adecuadamente).***\n",
    "\n",
    "***a. La cantidad total de elementos del stream es 16:*** VERDADERO porque en los 3 vectores se incrementan 16 veces los valores de los mismos, para cada filtro.\n",
    "\n",
    "***b. No puede tratarse de un stream con 16 elementos diferentes:*** FALSA pues los índices que nos dan los hashes pueden ser el producto de colisiones.\n",
    "\n",
    "***c. Puede existir un elemento con frecuencia 5:*** FALSA pues ningun elemento del tercer vector es mayor o igual a 5, por lo que ningun elemento puede haber incrementado 5 o más veces alguna posición."
   ]
  },
  {
   "cell_type": "markdown",
   "id": "a7573d76",
   "metadata": {},
   "source": [
    "***8. ¿Cuál es la cantidad máxima que puede estimar el algoritmo Count-Min dados los siguientes filtros? ¿Qué resultados debería dar la función de hashing para lograr dicha estimación?***\n",
    "\n",
    "```\n",
    "[2 6 0 0 0 3 0 1]\n",
    "[0 2 1 1 2 2 4 3]\n",
    "[3 2 0 0 2 4 3 2]\n",
    "```"
   ]
  },
  {
   "cell_type": "markdown",
   "id": "5474b6f3",
   "metadata": {},
   "source": [
    "Supongo que se refiere a 12 pues es la suma de numeros de los vectores xd"
   ]
  },
  {
   "cell_type": "markdown",
   "id": "cca9fc35",
   "metadata": {},
   "source": [
    "***9. Se usan 3 funciones de hashing 0..4 para el algoritmo Count-Min. Para las siguientes palabras, se da el resultado de las 3 funciones de hashing:***\n",
    "\n",
    "***“casa” -> [2 1 2] “canasta” -> [0 3 3] “kilo” -> [4 1 0] “alfa” -> [3 3 0]***\n",
    "\n",
    "***si los filtros son los siguientes:***\n",
    "```\n",
    "f1 = [0 2 3 1 3]\n",
    "f2 = [1 2 2 4 0]\n",
    "f3 = [3 0 1 1 1]\n",
    "```\n",
    "***¿Cuál de las cuatro palabras es estimada como la más frecuente?***"
   ]
  },
  {
   "cell_type": "markdown",
   "id": "dac96504",
   "metadata": {},
   "source": [
    "Los mínimos son:\n",
    "\n",
    "```\n",
    "min{f1[h(casa)],    f2[h(casa)],    f3[h(casa)]}    = 1\n",
    "min{f1[h(canasta)], f2[h(canasta)], f3[h(canasta)]} = 0\n",
    "min{f1[h(kilo)],    f2[h(kilo)],    f3[h(kilo)]}    = 1\n",
    "min{f1[h(alfa)],    f2[h(alfa)],    f3[h(alfa)]}    = 1\n",
    "```\n",
    "\n",
    "Es un empate entre casa, kilo y alfa."
   ]
  },
  {
   "cell_type": "markdown",
   "id": "248bce27",
   "metadata": {},
   "source": [
    "***10. Dado el siguiente stream: 1, 3, 2, 3, 3, 5, 2, 1; indicar una función de hashing de la forma h(x) = ax + b mod 32 tal que el algoritmo de Flajolet-Martin se aproxime de la mejor forma posible al cálculo del momento de orden 0 del stream. Usar 5 bits y tomar los bits a derecha para el algoritmo.***"
   ]
  },
  {
   "cell_type": "markdown",
   "id": "76a24696",
   "metadata": {},
   "source": [
    "Para mejor aproximar el calculo de orden 0 necesito que $r = 2$. Por ejemplo con $(a,b) = (1,2)$:"
   ]
  },
  {
   "cell_type": "code",
   "execution_count": 51,
   "id": "63d79b44",
   "metadata": {},
   "outputs": [
    {
     "name": "stdout",
     "output_type": "stream",
     "text": [
      "h(1) = 00011\n",
      "h(2) = 00100\n",
      "h(3) = 00101\n",
      "h(5) = 00111\n"
     ]
    }
   ],
   "source": [
    "h10 = lambda x: (1*x + 2) % 32\n",
    "stream10 = set([1, 3, 2, 3, 3, 5, 2, 1])\n",
    "for i in stream10:\n",
    "    nro = \"{:05b}\".format(h10(i))\n",
    "    print(f\"h({i}) = {nro}\")"
   ]
  },
  {
   "cell_type": "markdown",
   "id": "64430435",
   "metadata": {},
   "source": [
    "***11. Dado el siguiente stream: 1, 3, 4, 3, 4, 2, 2, 4, 2, 2; calcular el momento de orden 2 del stream y luego realizar una estimación usando AMS a partir de los valores del stream 2, 2, 4, 2, 2. Usar el promedio entre estimadores para la estimación final.***"
   ]
  },
  {
   "cell_type": "markdown",
   "id": "4a16ccd5",
   "metadata": {},
   "source": [
    "El momento real del stream es:"
   ]
  },
  {
   "cell_type": "code",
   "execution_count": 52,
   "id": "222ea6af",
   "metadata": {},
   "outputs": [
    {
     "data": {
      "text/plain": [
       "83"
      ]
     },
     "execution_count": 52,
     "metadata": {},
     "output_type": "execute_result"
    }
   ],
   "source": [
    "sum([i**2 for i in [1, 3, 4, 3, 4, 2, 2, 4, 2, 2]])"
   ]
  },
  {
   "cell_type": "code",
   "execution_count": null,
   "id": "2790705c",
   "metadata": {},
   "outputs": [],
   "source": []
  }
 ],
 "metadata": {
  "kernelspec": {
   "display_name": "Python 3",
   "language": "python",
   "name": "python3"
  },
  "language_info": {
   "codemirror_mode": {
    "name": "ipython",
    "version": 3
   },
   "file_extension": ".py",
   "mimetype": "text/x-python",
   "name": "python",
   "nbconvert_exporter": "python",
   "pygments_lexer": "ipython3",
   "version": "3.9.0"
  }
 },
 "nbformat": 4,
 "nbformat_minor": 5
}
